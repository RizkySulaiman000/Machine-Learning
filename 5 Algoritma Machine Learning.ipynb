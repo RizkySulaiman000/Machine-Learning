{
 "cells": [
  {
   "cell_type": "code",
   "execution_count": 201,
   "id": "a0c1e14a",
   "metadata": {},
   "outputs": [],
   "source": [
    "import pandas as pd\n",
    "from sklearn.model_selection import train_test_split\n",
    "from sklearn.linear_model import LogisticRegression\n",
    "\n",
    "# (Step 1) Menyediakan dataset yang sesuai dengan kasus klasifikasi.\n",
    "dataset = pd.read_csv('iris.csv')"
   ]
  },
  {
   "cell_type": "code",
   "execution_count": 202,
   "id": "442a2604",
   "metadata": {},
   "outputs": [],
   "source": [
    "# Memisahkan antara atribut/fitur (X) dengan target class (y)\n",
    "X = dataset.drop('target_class', axis=1)\n",
    "y = dataset['target_class']"
   ]
  },
  {
   "cell_type": "code",
   "execution_count": 203,
   "id": "08ae4623",
   "metadata": {},
   "outputs": [],
   "source": [
    "# (Step 2) Memisah antara data training dan testing.\n",
    "X_train, X_test, y_train, y_test = train_test_split(X, y, test_size=0.2, random_state=42)\n"
   ]
  },
  {
   "cell_type": "code",
   "execution_count": 204,
   "id": "75f09ed8",
   "metadata": {},
   "outputs": [],
   "source": [
    "# (Step 3) Menentukan algoritma klasifikasi tertentu.\n",
    "clf3 = LogisticRegression(max_iter=1000)"
   ]
  },
  {
   "cell_type": "code",
   "execution_count": 239,
   "id": "b4e90f53",
   "metadata": {},
   "outputs": [
    {
     "data": {
      "text/html": [
       "<style>#sk-container-id-33 {color: black;background-color: white;}#sk-container-id-33 pre{padding: 0;}#sk-container-id-33 div.sk-toggleable {background-color: white;}#sk-container-id-33 label.sk-toggleable__label {cursor: pointer;display: block;width: 100%;margin-bottom: 0;padding: 0.3em;box-sizing: border-box;text-align: center;}#sk-container-id-33 label.sk-toggleable__label-arrow:before {content: \"▸\";float: left;margin-right: 0.25em;color: #696969;}#sk-container-id-33 label.sk-toggleable__label-arrow:hover:before {color: black;}#sk-container-id-33 div.sk-estimator:hover label.sk-toggleable__label-arrow:before {color: black;}#sk-container-id-33 div.sk-toggleable__content {max-height: 0;max-width: 0;overflow: hidden;text-align: left;background-color: #f0f8ff;}#sk-container-id-33 div.sk-toggleable__content pre {margin: 0.2em;color: black;border-radius: 0.25em;background-color: #f0f8ff;}#sk-container-id-33 input.sk-toggleable__control:checked~div.sk-toggleable__content {max-height: 200px;max-width: 100%;overflow: auto;}#sk-container-id-33 input.sk-toggleable__control:checked~label.sk-toggleable__label-arrow:before {content: \"▾\";}#sk-container-id-33 div.sk-estimator input.sk-toggleable__control:checked~label.sk-toggleable__label {background-color: #d4ebff;}#sk-container-id-33 div.sk-label input.sk-toggleable__control:checked~label.sk-toggleable__label {background-color: #d4ebff;}#sk-container-id-33 input.sk-hidden--visually {border: 0;clip: rect(1px 1px 1px 1px);clip: rect(1px, 1px, 1px, 1px);height: 1px;margin: -1px;overflow: hidden;padding: 0;position: absolute;width: 1px;}#sk-container-id-33 div.sk-estimator {font-family: monospace;background-color: #f0f8ff;border: 1px dotted black;border-radius: 0.25em;box-sizing: border-box;margin-bottom: 0.5em;}#sk-container-id-33 div.sk-estimator:hover {background-color: #d4ebff;}#sk-container-id-33 div.sk-parallel-item::after {content: \"\";width: 100%;border-bottom: 1px solid gray;flex-grow: 1;}#sk-container-id-33 div.sk-label:hover label.sk-toggleable__label {background-color: #d4ebff;}#sk-container-id-33 div.sk-serial::before {content: \"\";position: absolute;border-left: 1px solid gray;box-sizing: border-box;top: 0;bottom: 0;left: 50%;z-index: 0;}#sk-container-id-33 div.sk-serial {display: flex;flex-direction: column;align-items: center;background-color: white;padding-right: 0.2em;padding-left: 0.2em;position: relative;}#sk-container-id-33 div.sk-item {position: relative;z-index: 1;}#sk-container-id-33 div.sk-parallel {display: flex;align-items: stretch;justify-content: center;background-color: white;position: relative;}#sk-container-id-33 div.sk-item::before, #sk-container-id-33 div.sk-parallel-item::before {content: \"\";position: absolute;border-left: 1px solid gray;box-sizing: border-box;top: 0;bottom: 0;left: 50%;z-index: -1;}#sk-container-id-33 div.sk-parallel-item {display: flex;flex-direction: column;z-index: 1;position: relative;background-color: white;}#sk-container-id-33 div.sk-parallel-item:first-child::after {align-self: flex-end;width: 50%;}#sk-container-id-33 div.sk-parallel-item:last-child::after {align-self: flex-start;width: 50%;}#sk-container-id-33 div.sk-parallel-item:only-child::after {width: 0;}#sk-container-id-33 div.sk-dashed-wrapped {border: 1px dashed gray;margin: 0 0.4em 0.5em 0.4em;box-sizing: border-box;padding-bottom: 0.4em;background-color: white;}#sk-container-id-33 div.sk-label label {font-family: monospace;font-weight: bold;display: inline-block;line-height: 1.2em;}#sk-container-id-33 div.sk-label-container {text-align: center;}#sk-container-id-33 div.sk-container {/* jupyter's `normalize.less` sets `[hidden] { display: none; }` but bootstrap.min.css set `[hidden] { display: none !important; }` so we also need the `!important` here to be able to override the default hidden behavior on the sphinx rendered scikit-learn.org. See: https://github.com/scikit-learn/scikit-learn/issues/21755 */display: inline-block !important;position: relative;}#sk-container-id-33 div.sk-text-repr-fallback {display: none;}</style><div id=\"sk-container-id-33\" class=\"sk-top-container\"><div class=\"sk-text-repr-fallback\"><pre>LogisticRegression(max_iter=1000)</pre><b>In a Jupyter environment, please rerun this cell to show the HTML representation or trust the notebook. <br />On GitHub, the HTML representation is unable to render, please try loading this page with nbviewer.org.</b></div><div class=\"sk-container\" hidden><div class=\"sk-item\"><div class=\"sk-estimator sk-toggleable\"><input class=\"sk-toggleable__control sk-hidden--visually\" id=\"sk-estimator-id-33\" type=\"checkbox\" checked><label for=\"sk-estimator-id-33\" class=\"sk-toggleable__label sk-toggleable__label-arrow\">LogisticRegression</label><div class=\"sk-toggleable__content\"><pre>LogisticRegression(max_iter=1000)</pre></div></div></div></div></div>"
      ],
      "text/plain": [
       "LogisticRegression(max_iter=1000)"
      ]
     },
     "execution_count": 239,
     "metadata": {},
     "output_type": "execute_result"
    }
   ],
   "source": [
    "# (Step 4) Proses untuk membentuk model.\n",
    "clf3.fit(X_train, y_train)"
   ]
  },
  {
   "cell_type": "code",
   "execution_count": 240,
   "id": "be243fe6",
   "metadata": {},
   "outputs": [],
   "source": [
    "# (Step 5) Model yang dihasilkan dari tahap sebelumnya, model ada pada variabel \"clf\".\n",
    "lr_pred3 = clf3.predict(X_test)"
   ]
  },
  {
   "cell_type": "code",
   "execution_count": 241,
   "id": "90cbc6f1",
   "metadata": {},
   "outputs": [
    {
     "name": "stdout",
     "output_type": "stream",
     "text": [
      "Predicted classes for the test data:\n",
      "Instance 0 belongs to class Versicolor\n",
      "Instance 1 belongs to class Setosa\n",
      "Instance 2 belongs to class Virginica\n",
      "Instance 3 belongs to class Versicolor\n",
      "Instance 4 belongs to class Versicolor\n",
      "Instance 5 belongs to class Setosa\n",
      "Instance 6 belongs to class Versicolor\n",
      "Instance 7 belongs to class Virginica\n",
      "Instance 8 belongs to class Versicolor\n",
      "Instance 9 belongs to class Versicolor\n",
      "Instance 10 belongs to class Virginica\n",
      "Instance 11 belongs to class Setosa\n",
      "Instance 12 belongs to class Setosa\n",
      "Instance 13 belongs to class Setosa\n",
      "Instance 14 belongs to class Setosa\n",
      "Instance 15 belongs to class Versicolor\n",
      "Instance 16 belongs to class Virginica\n",
      "Instance 17 belongs to class Versicolor\n",
      "Instance 18 belongs to class Versicolor\n",
      "Instance 19 belongs to class Virginica\n",
      "Instance 20 belongs to class Setosa\n",
      "Instance 21 belongs to class Virginica\n",
      "Instance 22 belongs to class Setosa\n",
      "Instance 23 belongs to class Virginica\n",
      "Instance 24 belongs to class Virginica\n",
      "Instance 25 belongs to class Virginica\n",
      "Instance 26 belongs to class Virginica\n",
      "Instance 27 belongs to class Virginica\n",
      "Instance 28 belongs to class Setosa\n",
      "Instance 29 belongs to class Setosa\n"
     ]
    }
   ],
   "source": [
    "# Menampilkan hasil prediksi, khususnya data testing.\n",
    "print(\"Predicted classes for the test data:\")\n",
    "for i in range(len(X_test)):\n",
    "    print(\"Instance\", i, \"belongs to class\", lr_pred3[i])"
   ]
  },
  {
   "cell_type": "code",
   "execution_count": 242,
   "id": "d63793d9",
   "metadata": {},
   "outputs": [],
   "source": [
    "#Bagian : RandomForest\n",
    "import pandas as pd\n",
    "from sklearn.model_selection import train_test_split\n",
    "from sklearn.ensemble import RandomForestClassifier\n",
    "\n",
    "# (Step 1) Menyediakan dataset yang sesuai dengan kasus klasifikasi.\n",
    "dataset = pd.read_csv('iris.csv')"
   ]
  },
  {
   "cell_type": "code",
   "execution_count": 243,
   "id": "73a79587",
   "metadata": {},
   "outputs": [],
   "source": [
    "# Memisahkan antara atribut/fitur (X) dengan target class (y)\n",
    "X = dataset.drop('target_class', axis=1)\n",
    "y = dataset['target_class']"
   ]
  },
  {
   "cell_type": "code",
   "execution_count": 244,
   "id": "e8fa68ac",
   "metadata": {},
   "outputs": [],
   "source": [
    "# (Step 2) Memisah antara data training dan testing.\n",
    "X_train, X_test, y_train, y_test = train_test_split(X, y, test_size=0.2, random_state=42)"
   ]
  },
  {
   "cell_type": "code",
   "execution_count": 245,
   "id": "7d485cf3",
   "metadata": {},
   "outputs": [],
   "source": [
    "#(Step 3) Menentukan algoritma klasifikasi tertentu.\n",
    "clf4 = RandomForestClassifier()"
   ]
  },
  {
   "cell_type": "code",
   "execution_count": 246,
   "id": "552c2850",
   "metadata": {},
   "outputs": [
    {
     "data": {
      "text/html": [
       "<style>#sk-container-id-34 {color: black;background-color: white;}#sk-container-id-34 pre{padding: 0;}#sk-container-id-34 div.sk-toggleable {background-color: white;}#sk-container-id-34 label.sk-toggleable__label {cursor: pointer;display: block;width: 100%;margin-bottom: 0;padding: 0.3em;box-sizing: border-box;text-align: center;}#sk-container-id-34 label.sk-toggleable__label-arrow:before {content: \"▸\";float: left;margin-right: 0.25em;color: #696969;}#sk-container-id-34 label.sk-toggleable__label-arrow:hover:before {color: black;}#sk-container-id-34 div.sk-estimator:hover label.sk-toggleable__label-arrow:before {color: black;}#sk-container-id-34 div.sk-toggleable__content {max-height: 0;max-width: 0;overflow: hidden;text-align: left;background-color: #f0f8ff;}#sk-container-id-34 div.sk-toggleable__content pre {margin: 0.2em;color: black;border-radius: 0.25em;background-color: #f0f8ff;}#sk-container-id-34 input.sk-toggleable__control:checked~div.sk-toggleable__content {max-height: 200px;max-width: 100%;overflow: auto;}#sk-container-id-34 input.sk-toggleable__control:checked~label.sk-toggleable__label-arrow:before {content: \"▾\";}#sk-container-id-34 div.sk-estimator input.sk-toggleable__control:checked~label.sk-toggleable__label {background-color: #d4ebff;}#sk-container-id-34 div.sk-label input.sk-toggleable__control:checked~label.sk-toggleable__label {background-color: #d4ebff;}#sk-container-id-34 input.sk-hidden--visually {border: 0;clip: rect(1px 1px 1px 1px);clip: rect(1px, 1px, 1px, 1px);height: 1px;margin: -1px;overflow: hidden;padding: 0;position: absolute;width: 1px;}#sk-container-id-34 div.sk-estimator {font-family: monospace;background-color: #f0f8ff;border: 1px dotted black;border-radius: 0.25em;box-sizing: border-box;margin-bottom: 0.5em;}#sk-container-id-34 div.sk-estimator:hover {background-color: #d4ebff;}#sk-container-id-34 div.sk-parallel-item::after {content: \"\";width: 100%;border-bottom: 1px solid gray;flex-grow: 1;}#sk-container-id-34 div.sk-label:hover label.sk-toggleable__label {background-color: #d4ebff;}#sk-container-id-34 div.sk-serial::before {content: \"\";position: absolute;border-left: 1px solid gray;box-sizing: border-box;top: 0;bottom: 0;left: 50%;z-index: 0;}#sk-container-id-34 div.sk-serial {display: flex;flex-direction: column;align-items: center;background-color: white;padding-right: 0.2em;padding-left: 0.2em;position: relative;}#sk-container-id-34 div.sk-item {position: relative;z-index: 1;}#sk-container-id-34 div.sk-parallel {display: flex;align-items: stretch;justify-content: center;background-color: white;position: relative;}#sk-container-id-34 div.sk-item::before, #sk-container-id-34 div.sk-parallel-item::before {content: \"\";position: absolute;border-left: 1px solid gray;box-sizing: border-box;top: 0;bottom: 0;left: 50%;z-index: -1;}#sk-container-id-34 div.sk-parallel-item {display: flex;flex-direction: column;z-index: 1;position: relative;background-color: white;}#sk-container-id-34 div.sk-parallel-item:first-child::after {align-self: flex-end;width: 50%;}#sk-container-id-34 div.sk-parallel-item:last-child::after {align-self: flex-start;width: 50%;}#sk-container-id-34 div.sk-parallel-item:only-child::after {width: 0;}#sk-container-id-34 div.sk-dashed-wrapped {border: 1px dashed gray;margin: 0 0.4em 0.5em 0.4em;box-sizing: border-box;padding-bottom: 0.4em;background-color: white;}#sk-container-id-34 div.sk-label label {font-family: monospace;font-weight: bold;display: inline-block;line-height: 1.2em;}#sk-container-id-34 div.sk-label-container {text-align: center;}#sk-container-id-34 div.sk-container {/* jupyter's `normalize.less` sets `[hidden] { display: none; }` but bootstrap.min.css set `[hidden] { display: none !important; }` so we also need the `!important` here to be able to override the default hidden behavior on the sphinx rendered scikit-learn.org. See: https://github.com/scikit-learn/scikit-learn/issues/21755 */display: inline-block !important;position: relative;}#sk-container-id-34 div.sk-text-repr-fallback {display: none;}</style><div id=\"sk-container-id-34\" class=\"sk-top-container\"><div class=\"sk-text-repr-fallback\"><pre>RandomForestClassifier()</pre><b>In a Jupyter environment, please rerun this cell to show the HTML representation or trust the notebook. <br />On GitHub, the HTML representation is unable to render, please try loading this page with nbviewer.org.</b></div><div class=\"sk-container\" hidden><div class=\"sk-item\"><div class=\"sk-estimator sk-toggleable\"><input class=\"sk-toggleable__control sk-hidden--visually\" id=\"sk-estimator-id-34\" type=\"checkbox\" checked><label for=\"sk-estimator-id-34\" class=\"sk-toggleable__label sk-toggleable__label-arrow\">RandomForestClassifier</label><div class=\"sk-toggleable__content\"><pre>RandomForestClassifier()</pre></div></div></div></div></div>"
      ],
      "text/plain": [
       "RandomForestClassifier()"
      ]
     },
     "execution_count": 246,
     "metadata": {},
     "output_type": "execute_result"
    }
   ],
   "source": [
    "# (Step 4) Proses untuk membentuk model.\n",
    "clf4.fit(X_train, y_train)"
   ]
  },
  {
   "cell_type": "code",
   "execution_count": 247,
   "id": "52a26602",
   "metadata": {},
   "outputs": [],
   "source": [
    "# (Step 5) Model yang dihasilkan dari tahap sebelumnya, model ada pada variabel \"clf\".\n",
    "rf_pred4 = clf4.predict(X_test)"
   ]
  },
  {
   "cell_type": "code",
   "execution_count": 248,
   "id": "66e0469e",
   "metadata": {},
   "outputs": [
    {
     "name": "stdout",
     "output_type": "stream",
     "text": [
      "Predicted classes for the test data:\n",
      "Instance 0 belongs to class Versicolor\n",
      "Instance 1 belongs to class Setosa\n",
      "Instance 2 belongs to class Virginica\n",
      "Instance 3 belongs to class Versicolor\n",
      "Instance 4 belongs to class Versicolor\n",
      "Instance 5 belongs to class Setosa\n",
      "Instance 6 belongs to class Versicolor\n",
      "Instance 7 belongs to class Virginica\n",
      "Instance 8 belongs to class Versicolor\n",
      "Instance 9 belongs to class Versicolor\n",
      "Instance 10 belongs to class Virginica\n",
      "Instance 11 belongs to class Setosa\n",
      "Instance 12 belongs to class Setosa\n",
      "Instance 13 belongs to class Setosa\n",
      "Instance 14 belongs to class Setosa\n",
      "Instance 15 belongs to class Versicolor\n",
      "Instance 16 belongs to class Virginica\n",
      "Instance 17 belongs to class Versicolor\n",
      "Instance 18 belongs to class Versicolor\n",
      "Instance 19 belongs to class Virginica\n",
      "Instance 20 belongs to class Setosa\n",
      "Instance 21 belongs to class Virginica\n",
      "Instance 22 belongs to class Setosa\n",
      "Instance 23 belongs to class Virginica\n",
      "Instance 24 belongs to class Virginica\n",
      "Instance 25 belongs to class Virginica\n",
      "Instance 26 belongs to class Virginica\n",
      "Instance 27 belongs to class Virginica\n",
      "Instance 28 belongs to class Setosa\n",
      "Instance 29 belongs to class Setosa\n"
     ]
    }
   ],
   "source": [
    "# Menampilkan hasil prediksi, khususnya data testing.\n",
    "print(\"Predicted classes for the test data:\")\n",
    "for i in range(len(X_test)):\n",
    "    print(\"Instance\", i, \"belongs to class\", rf_pred4[i])"
   ]
  },
  {
   "cell_type": "code",
   "execution_count": 249,
   "id": "afdc8abc",
   "metadata": {},
   "outputs": [],
   "source": [
    "#Bagian : DecisionTree\n",
    "import pandas as pd\n",
    "from sklearn.model_selection import train_test_split\n",
    "from sklearn.tree import DecisionTreeClassifier\n",
    "\n",
    "# (Step 1) Menyediakan dataset yang sesuai dengan kasus klasifikasi.\n",
    "dataset = pd.read_csv('iris.csv')"
   ]
  },
  {
   "cell_type": "code",
   "execution_count": 250,
   "id": "ccdb0e57",
   "metadata": {},
   "outputs": [],
   "source": [
    "# Memisahkan antara atribut/fitur (X) dengan target class (y)\n",
    "X = dataset.drop('target_class', axis=1)\n",
    "y = dataset['target_class']"
   ]
  },
  {
   "cell_type": "code",
   "execution_count": 251,
   "id": "0fb42333",
   "metadata": {},
   "outputs": [],
   "source": [
    "# (Step 2) Memisah antara data training dan testing.\n",
    "X_train, X_test, y_train, y_test = train_test_split(X, y, test_size=0.2, random_state=42)"
   ]
  },
  {
   "cell_type": "code",
   "execution_count": 252,
   "id": "345618a1",
   "metadata": {},
   "outputs": [],
   "source": [
    "# (Step 3) Menentukan algoritma klasifikasi tertentu.\n",
    "clf2 = DecisionTreeClassifier()"
   ]
  },
  {
   "cell_type": "code",
   "execution_count": 253,
   "id": "25c258c4",
   "metadata": {},
   "outputs": [
    {
     "data": {
      "text/html": [
       "<style>#sk-container-id-35 {color: black;background-color: white;}#sk-container-id-35 pre{padding: 0;}#sk-container-id-35 div.sk-toggleable {background-color: white;}#sk-container-id-35 label.sk-toggleable__label {cursor: pointer;display: block;width: 100%;margin-bottom: 0;padding: 0.3em;box-sizing: border-box;text-align: center;}#sk-container-id-35 label.sk-toggleable__label-arrow:before {content: \"▸\";float: left;margin-right: 0.25em;color: #696969;}#sk-container-id-35 label.sk-toggleable__label-arrow:hover:before {color: black;}#sk-container-id-35 div.sk-estimator:hover label.sk-toggleable__label-arrow:before {color: black;}#sk-container-id-35 div.sk-toggleable__content {max-height: 0;max-width: 0;overflow: hidden;text-align: left;background-color: #f0f8ff;}#sk-container-id-35 div.sk-toggleable__content pre {margin: 0.2em;color: black;border-radius: 0.25em;background-color: #f0f8ff;}#sk-container-id-35 input.sk-toggleable__control:checked~div.sk-toggleable__content {max-height: 200px;max-width: 100%;overflow: auto;}#sk-container-id-35 input.sk-toggleable__control:checked~label.sk-toggleable__label-arrow:before {content: \"▾\";}#sk-container-id-35 div.sk-estimator input.sk-toggleable__control:checked~label.sk-toggleable__label {background-color: #d4ebff;}#sk-container-id-35 div.sk-label input.sk-toggleable__control:checked~label.sk-toggleable__label {background-color: #d4ebff;}#sk-container-id-35 input.sk-hidden--visually {border: 0;clip: rect(1px 1px 1px 1px);clip: rect(1px, 1px, 1px, 1px);height: 1px;margin: -1px;overflow: hidden;padding: 0;position: absolute;width: 1px;}#sk-container-id-35 div.sk-estimator {font-family: monospace;background-color: #f0f8ff;border: 1px dotted black;border-radius: 0.25em;box-sizing: border-box;margin-bottom: 0.5em;}#sk-container-id-35 div.sk-estimator:hover {background-color: #d4ebff;}#sk-container-id-35 div.sk-parallel-item::after {content: \"\";width: 100%;border-bottom: 1px solid gray;flex-grow: 1;}#sk-container-id-35 div.sk-label:hover label.sk-toggleable__label {background-color: #d4ebff;}#sk-container-id-35 div.sk-serial::before {content: \"\";position: absolute;border-left: 1px solid gray;box-sizing: border-box;top: 0;bottom: 0;left: 50%;z-index: 0;}#sk-container-id-35 div.sk-serial {display: flex;flex-direction: column;align-items: center;background-color: white;padding-right: 0.2em;padding-left: 0.2em;position: relative;}#sk-container-id-35 div.sk-item {position: relative;z-index: 1;}#sk-container-id-35 div.sk-parallel {display: flex;align-items: stretch;justify-content: center;background-color: white;position: relative;}#sk-container-id-35 div.sk-item::before, #sk-container-id-35 div.sk-parallel-item::before {content: \"\";position: absolute;border-left: 1px solid gray;box-sizing: border-box;top: 0;bottom: 0;left: 50%;z-index: -1;}#sk-container-id-35 div.sk-parallel-item {display: flex;flex-direction: column;z-index: 1;position: relative;background-color: white;}#sk-container-id-35 div.sk-parallel-item:first-child::after {align-self: flex-end;width: 50%;}#sk-container-id-35 div.sk-parallel-item:last-child::after {align-self: flex-start;width: 50%;}#sk-container-id-35 div.sk-parallel-item:only-child::after {width: 0;}#sk-container-id-35 div.sk-dashed-wrapped {border: 1px dashed gray;margin: 0 0.4em 0.5em 0.4em;box-sizing: border-box;padding-bottom: 0.4em;background-color: white;}#sk-container-id-35 div.sk-label label {font-family: monospace;font-weight: bold;display: inline-block;line-height: 1.2em;}#sk-container-id-35 div.sk-label-container {text-align: center;}#sk-container-id-35 div.sk-container {/* jupyter's `normalize.less` sets `[hidden] { display: none; }` but bootstrap.min.css set `[hidden] { display: none !important; }` so we also need the `!important` here to be able to override the default hidden behavior on the sphinx rendered scikit-learn.org. See: https://github.com/scikit-learn/scikit-learn/issues/21755 */display: inline-block !important;position: relative;}#sk-container-id-35 div.sk-text-repr-fallback {display: none;}</style><div id=\"sk-container-id-35\" class=\"sk-top-container\"><div class=\"sk-text-repr-fallback\"><pre>DecisionTreeClassifier()</pre><b>In a Jupyter environment, please rerun this cell to show the HTML representation or trust the notebook. <br />On GitHub, the HTML representation is unable to render, please try loading this page with nbviewer.org.</b></div><div class=\"sk-container\" hidden><div class=\"sk-item\"><div class=\"sk-estimator sk-toggleable\"><input class=\"sk-toggleable__control sk-hidden--visually\" id=\"sk-estimator-id-35\" type=\"checkbox\" checked><label for=\"sk-estimator-id-35\" class=\"sk-toggleable__label sk-toggleable__label-arrow\">DecisionTreeClassifier</label><div class=\"sk-toggleable__content\"><pre>DecisionTreeClassifier()</pre></div></div></div></div></div>"
      ],
      "text/plain": [
       "DecisionTreeClassifier()"
      ]
     },
     "execution_count": 253,
     "metadata": {},
     "output_type": "execute_result"
    }
   ],
   "source": [
    "# (Step 4) Proses untuk membentuk model.\n",
    "clf2.fit(X_train, y_train)"
   ]
  },
  {
   "cell_type": "code",
   "execution_count": 254,
   "id": "bdd4cbc2",
   "metadata": {},
   "outputs": [],
   "source": [
    "# (Step 5) Model yang dihasilkan dari tahap sebelumnya, model ada pada variabel \"clf\".\n",
    "dt_pred2 = clf2.predict(X_test)"
   ]
  },
  {
   "cell_type": "code",
   "execution_count": 255,
   "id": "fdfc9539",
   "metadata": {},
   "outputs": [
    {
     "name": "stdout",
     "output_type": "stream",
     "text": [
      "Predicted classes for the test data:\n",
      "Instance 0 belongs to class Versicolor\n",
      "Instance 1 belongs to class Setosa\n",
      "Instance 2 belongs to class Virginica\n",
      "Instance 3 belongs to class Versicolor\n",
      "Instance 4 belongs to class Versicolor\n",
      "Instance 5 belongs to class Setosa\n",
      "Instance 6 belongs to class Versicolor\n",
      "Instance 7 belongs to class Virginica\n",
      "Instance 8 belongs to class Versicolor\n",
      "Instance 9 belongs to class Versicolor\n",
      "Instance 10 belongs to class Virginica\n",
      "Instance 11 belongs to class Setosa\n",
      "Instance 12 belongs to class Setosa\n",
      "Instance 13 belongs to class Setosa\n",
      "Instance 14 belongs to class Setosa\n",
      "Instance 15 belongs to class Versicolor\n",
      "Instance 16 belongs to class Virginica\n",
      "Instance 17 belongs to class Versicolor\n",
      "Instance 18 belongs to class Versicolor\n",
      "Instance 19 belongs to class Virginica\n",
      "Instance 20 belongs to class Setosa\n",
      "Instance 21 belongs to class Virginica\n",
      "Instance 22 belongs to class Setosa\n",
      "Instance 23 belongs to class Virginica\n",
      "Instance 24 belongs to class Virginica\n",
      "Instance 25 belongs to class Virginica\n",
      "Instance 26 belongs to class Virginica\n",
      "Instance 27 belongs to class Virginica\n",
      "Instance 28 belongs to class Setosa\n",
      "Instance 29 belongs to class Setosa\n"
     ]
    }
   ],
   "source": [
    "# Menampilkan hasil prediksi, khususnya data testing.\n",
    "print(\"Predicted classes for the test data:\")\n",
    "for i in range(len(X_test)):\n",
    "    print(\"Instance\", i, \"belongs to class\", dt_pred2[i])"
   ]
  },
  {
   "cell_type": "code",
   "execution_count": 256,
   "id": "38696b5b",
   "metadata": {},
   "outputs": [],
   "source": [
    "#Bagian :Support Vector Machine\n",
    "import pandas as pd\n",
    "from sklearn.model_selection import train_test_split\n",
    "from sklearn.svm import SVC\n",
    "\n",
    "# (step 1) Menyediakan dataset yang sesuai dengan kasus klasifikasi.\n",
    "dataset = pd.read_csv('iris.csv')"
   ]
  },
  {
   "cell_type": "code",
   "execution_count": 257,
   "id": "5ce3a2b9",
   "metadata": {},
   "outputs": [],
   "source": [
    "# Memisahkan antara atribut/fitur (X) dengan target class (y)\n",
    "X = dataset.drop('target_class', axis=1)\n",
    "y = dataset['target_class']"
   ]
  },
  {
   "cell_type": "code",
   "execution_count": 258,
   "id": "67d70e4d",
   "metadata": {},
   "outputs": [],
   "source": [
    "# (step 2) Memisah antara data training dan testing.\n",
    "X_train, X_test, y_train, y_test = train_test_split(X, y, test_size=0.2, random_state=42)"
   ]
  },
  {
   "cell_type": "code",
   "execution_count": 259,
   "id": "bd95bbf5",
   "metadata": {},
   "outputs": [],
   "source": [
    "# (step 3) Menentukan algoritma klasifikasi tertentu.\n",
    "clf5 = SVC()"
   ]
  },
  {
   "cell_type": "code",
   "execution_count": 260,
   "id": "b44cf43c",
   "metadata": {},
   "outputs": [
    {
     "data": {
      "text/html": [
       "<style>#sk-container-id-36 {color: black;background-color: white;}#sk-container-id-36 pre{padding: 0;}#sk-container-id-36 div.sk-toggleable {background-color: white;}#sk-container-id-36 label.sk-toggleable__label {cursor: pointer;display: block;width: 100%;margin-bottom: 0;padding: 0.3em;box-sizing: border-box;text-align: center;}#sk-container-id-36 label.sk-toggleable__label-arrow:before {content: \"▸\";float: left;margin-right: 0.25em;color: #696969;}#sk-container-id-36 label.sk-toggleable__label-arrow:hover:before {color: black;}#sk-container-id-36 div.sk-estimator:hover label.sk-toggleable__label-arrow:before {color: black;}#sk-container-id-36 div.sk-toggleable__content {max-height: 0;max-width: 0;overflow: hidden;text-align: left;background-color: #f0f8ff;}#sk-container-id-36 div.sk-toggleable__content pre {margin: 0.2em;color: black;border-radius: 0.25em;background-color: #f0f8ff;}#sk-container-id-36 input.sk-toggleable__control:checked~div.sk-toggleable__content {max-height: 200px;max-width: 100%;overflow: auto;}#sk-container-id-36 input.sk-toggleable__control:checked~label.sk-toggleable__label-arrow:before {content: \"▾\";}#sk-container-id-36 div.sk-estimator input.sk-toggleable__control:checked~label.sk-toggleable__label {background-color: #d4ebff;}#sk-container-id-36 div.sk-label input.sk-toggleable__control:checked~label.sk-toggleable__label {background-color: #d4ebff;}#sk-container-id-36 input.sk-hidden--visually {border: 0;clip: rect(1px 1px 1px 1px);clip: rect(1px, 1px, 1px, 1px);height: 1px;margin: -1px;overflow: hidden;padding: 0;position: absolute;width: 1px;}#sk-container-id-36 div.sk-estimator {font-family: monospace;background-color: #f0f8ff;border: 1px dotted black;border-radius: 0.25em;box-sizing: border-box;margin-bottom: 0.5em;}#sk-container-id-36 div.sk-estimator:hover {background-color: #d4ebff;}#sk-container-id-36 div.sk-parallel-item::after {content: \"\";width: 100%;border-bottom: 1px solid gray;flex-grow: 1;}#sk-container-id-36 div.sk-label:hover label.sk-toggleable__label {background-color: #d4ebff;}#sk-container-id-36 div.sk-serial::before {content: \"\";position: absolute;border-left: 1px solid gray;box-sizing: border-box;top: 0;bottom: 0;left: 50%;z-index: 0;}#sk-container-id-36 div.sk-serial {display: flex;flex-direction: column;align-items: center;background-color: white;padding-right: 0.2em;padding-left: 0.2em;position: relative;}#sk-container-id-36 div.sk-item {position: relative;z-index: 1;}#sk-container-id-36 div.sk-parallel {display: flex;align-items: stretch;justify-content: center;background-color: white;position: relative;}#sk-container-id-36 div.sk-item::before, #sk-container-id-36 div.sk-parallel-item::before {content: \"\";position: absolute;border-left: 1px solid gray;box-sizing: border-box;top: 0;bottom: 0;left: 50%;z-index: -1;}#sk-container-id-36 div.sk-parallel-item {display: flex;flex-direction: column;z-index: 1;position: relative;background-color: white;}#sk-container-id-36 div.sk-parallel-item:first-child::after {align-self: flex-end;width: 50%;}#sk-container-id-36 div.sk-parallel-item:last-child::after {align-self: flex-start;width: 50%;}#sk-container-id-36 div.sk-parallel-item:only-child::after {width: 0;}#sk-container-id-36 div.sk-dashed-wrapped {border: 1px dashed gray;margin: 0 0.4em 0.5em 0.4em;box-sizing: border-box;padding-bottom: 0.4em;background-color: white;}#sk-container-id-36 div.sk-label label {font-family: monospace;font-weight: bold;display: inline-block;line-height: 1.2em;}#sk-container-id-36 div.sk-label-container {text-align: center;}#sk-container-id-36 div.sk-container {/* jupyter's `normalize.less` sets `[hidden] { display: none; }` but bootstrap.min.css set `[hidden] { display: none !important; }` so we also need the `!important` here to be able to override the default hidden behavior on the sphinx rendered scikit-learn.org. See: https://github.com/scikit-learn/scikit-learn/issues/21755 */display: inline-block !important;position: relative;}#sk-container-id-36 div.sk-text-repr-fallback {display: none;}</style><div id=\"sk-container-id-36\" class=\"sk-top-container\"><div class=\"sk-text-repr-fallback\"><pre>SVC()</pre><b>In a Jupyter environment, please rerun this cell to show the HTML representation or trust the notebook. <br />On GitHub, the HTML representation is unable to render, please try loading this page with nbviewer.org.</b></div><div class=\"sk-container\" hidden><div class=\"sk-item\"><div class=\"sk-estimator sk-toggleable\"><input class=\"sk-toggleable__control sk-hidden--visually\" id=\"sk-estimator-id-36\" type=\"checkbox\" checked><label for=\"sk-estimator-id-36\" class=\"sk-toggleable__label sk-toggleable__label-arrow\">SVC</label><div class=\"sk-toggleable__content\"><pre>SVC()</pre></div></div></div></div></div>"
      ],
      "text/plain": [
       "SVC()"
      ]
     },
     "execution_count": 260,
     "metadata": {},
     "output_type": "execute_result"
    }
   ],
   "source": [
    "# (step 4) Proses untuk membentuk model\n",
    "clf5.fit(X_train, y_train)"
   ]
  },
  {
   "cell_type": "code",
   "execution_count": 261,
   "id": "fc47592d",
   "metadata": {},
   "outputs": [],
   "source": [
    "# (step 5) Model yang dihasilkan dari tahap sebelumnya, model ada pada variabel \"clf\"\n",
    "svm_pred = clf5.predict(X_test)"
   ]
  },
  {
   "cell_type": "code",
   "execution_count": 262,
   "id": "2bd9a654",
   "metadata": {},
   "outputs": [
    {
     "name": "stdout",
     "output_type": "stream",
     "text": [
      "Predicted classes for the test data:\n",
      "Instance 0 belongs to class Versicolor\n",
      "Instance 1 belongs to class Setosa\n",
      "Instance 2 belongs to class Virginica\n",
      "Instance 3 belongs to class Versicolor\n",
      "Instance 4 belongs to class Versicolor\n",
      "Instance 5 belongs to class Setosa\n",
      "Instance 6 belongs to class Versicolor\n",
      "Instance 7 belongs to class Virginica\n",
      "Instance 8 belongs to class Versicolor\n",
      "Instance 9 belongs to class Versicolor\n",
      "Instance 10 belongs to class Virginica\n",
      "Instance 11 belongs to class Setosa\n",
      "Instance 12 belongs to class Setosa\n",
      "Instance 13 belongs to class Setosa\n",
      "Instance 14 belongs to class Setosa\n",
      "Instance 15 belongs to class Versicolor\n",
      "Instance 16 belongs to class Virginica\n",
      "Instance 17 belongs to class Versicolor\n",
      "Instance 18 belongs to class Versicolor\n",
      "Instance 19 belongs to class Virginica\n",
      "Instance 20 belongs to class Setosa\n",
      "Instance 21 belongs to class Virginica\n",
      "Instance 22 belongs to class Setosa\n",
      "Instance 23 belongs to class Virginica\n",
      "Instance 24 belongs to class Virginica\n",
      "Instance 25 belongs to class Virginica\n",
      "Instance 26 belongs to class Virginica\n",
      "Instance 27 belongs to class Virginica\n",
      "Instance 28 belongs to class Setosa\n",
      "Instance 29 belongs to class Setosa\n"
     ]
    }
   ],
   "source": [
    "# Menampilkan hasil prediksi, khususnya data testing\n",
    "print(\"Predicted classes for the test data:\")\n",
    "for i in range(len(X_test)):\n",
    "    print(\"Instance\", i, \"belongs to class\", svm_pred[i])"
   ]
  },
  {
   "cell_type": "code",
   "execution_count": 263,
   "id": "f1102541",
   "metadata": {},
   "outputs": [],
   "source": [
    "#Bagian : k-Nearest Neighbors (kNN)\n",
    "import pandas as pd\n",
    "from sklearn.model_selection import train_test_split\n",
    "from sklearn.neighbors import KNeighborsClassifier"
   ]
  },
  {
   "cell_type": "code",
   "execution_count": 264,
   "id": "8e51949e",
   "metadata": {},
   "outputs": [],
   "source": [
    "# (step 1) Menyediakan dataset yang sesuai dengan kasus klasifikasi.\n",
    "dataset = pd.read_csv('iris.csv')"
   ]
  },
  {
   "cell_type": "code",
   "execution_count": 265,
   "id": "bd7b7967",
   "metadata": {},
   "outputs": [],
   "source": [
    "# Memisahkan antara atribut/fitur (X) dengan target class (y)\n",
    "X = dataset.drop('target_class', axis=1)\n",
    "y = dataset['target_class']"
   ]
  },
  {
   "cell_type": "code",
   "execution_count": 266,
   "id": "a76cf97b",
   "metadata": {},
   "outputs": [],
   "source": [
    "# (step 2) Memisah antara data training dan testing.\n",
    "X_train, X_test, y_train, y_test = train_test_split(X, y, test_size=0.2, random_state=42)"
   ]
  },
  {
   "cell_type": "code",
   "execution_count": 267,
   "id": "35fa531e",
   "metadata": {},
   "outputs": [],
   "source": [
    "# (step 3) Menentukan algoritma klasifikasi tertentu.\n",
    "clf = KNeighborsClassifier()"
   ]
  },
  {
   "cell_type": "code",
   "execution_count": 268,
   "id": "d4a410ae",
   "metadata": {},
   "outputs": [
    {
     "data": {
      "text/html": [
       "<style>#sk-container-id-37 {color: black;background-color: white;}#sk-container-id-37 pre{padding: 0;}#sk-container-id-37 div.sk-toggleable {background-color: white;}#sk-container-id-37 label.sk-toggleable__label {cursor: pointer;display: block;width: 100%;margin-bottom: 0;padding: 0.3em;box-sizing: border-box;text-align: center;}#sk-container-id-37 label.sk-toggleable__label-arrow:before {content: \"▸\";float: left;margin-right: 0.25em;color: #696969;}#sk-container-id-37 label.sk-toggleable__label-arrow:hover:before {color: black;}#sk-container-id-37 div.sk-estimator:hover label.sk-toggleable__label-arrow:before {color: black;}#sk-container-id-37 div.sk-toggleable__content {max-height: 0;max-width: 0;overflow: hidden;text-align: left;background-color: #f0f8ff;}#sk-container-id-37 div.sk-toggleable__content pre {margin: 0.2em;color: black;border-radius: 0.25em;background-color: #f0f8ff;}#sk-container-id-37 input.sk-toggleable__control:checked~div.sk-toggleable__content {max-height: 200px;max-width: 100%;overflow: auto;}#sk-container-id-37 input.sk-toggleable__control:checked~label.sk-toggleable__label-arrow:before {content: \"▾\";}#sk-container-id-37 div.sk-estimator input.sk-toggleable__control:checked~label.sk-toggleable__label {background-color: #d4ebff;}#sk-container-id-37 div.sk-label input.sk-toggleable__control:checked~label.sk-toggleable__label {background-color: #d4ebff;}#sk-container-id-37 input.sk-hidden--visually {border: 0;clip: rect(1px 1px 1px 1px);clip: rect(1px, 1px, 1px, 1px);height: 1px;margin: -1px;overflow: hidden;padding: 0;position: absolute;width: 1px;}#sk-container-id-37 div.sk-estimator {font-family: monospace;background-color: #f0f8ff;border: 1px dotted black;border-radius: 0.25em;box-sizing: border-box;margin-bottom: 0.5em;}#sk-container-id-37 div.sk-estimator:hover {background-color: #d4ebff;}#sk-container-id-37 div.sk-parallel-item::after {content: \"\";width: 100%;border-bottom: 1px solid gray;flex-grow: 1;}#sk-container-id-37 div.sk-label:hover label.sk-toggleable__label {background-color: #d4ebff;}#sk-container-id-37 div.sk-serial::before {content: \"\";position: absolute;border-left: 1px solid gray;box-sizing: border-box;top: 0;bottom: 0;left: 50%;z-index: 0;}#sk-container-id-37 div.sk-serial {display: flex;flex-direction: column;align-items: center;background-color: white;padding-right: 0.2em;padding-left: 0.2em;position: relative;}#sk-container-id-37 div.sk-item {position: relative;z-index: 1;}#sk-container-id-37 div.sk-parallel {display: flex;align-items: stretch;justify-content: center;background-color: white;position: relative;}#sk-container-id-37 div.sk-item::before, #sk-container-id-37 div.sk-parallel-item::before {content: \"\";position: absolute;border-left: 1px solid gray;box-sizing: border-box;top: 0;bottom: 0;left: 50%;z-index: -1;}#sk-container-id-37 div.sk-parallel-item {display: flex;flex-direction: column;z-index: 1;position: relative;background-color: white;}#sk-container-id-37 div.sk-parallel-item:first-child::after {align-self: flex-end;width: 50%;}#sk-container-id-37 div.sk-parallel-item:last-child::after {align-self: flex-start;width: 50%;}#sk-container-id-37 div.sk-parallel-item:only-child::after {width: 0;}#sk-container-id-37 div.sk-dashed-wrapped {border: 1px dashed gray;margin: 0 0.4em 0.5em 0.4em;box-sizing: border-box;padding-bottom: 0.4em;background-color: white;}#sk-container-id-37 div.sk-label label {font-family: monospace;font-weight: bold;display: inline-block;line-height: 1.2em;}#sk-container-id-37 div.sk-label-container {text-align: center;}#sk-container-id-37 div.sk-container {/* jupyter's `normalize.less` sets `[hidden] { display: none; }` but bootstrap.min.css set `[hidden] { display: none !important; }` so we also need the `!important` here to be able to override the default hidden behavior on the sphinx rendered scikit-learn.org. See: https://github.com/scikit-learn/scikit-learn/issues/21755 */display: inline-block !important;position: relative;}#sk-container-id-37 div.sk-text-repr-fallback {display: none;}</style><div id=\"sk-container-id-37\" class=\"sk-top-container\"><div class=\"sk-text-repr-fallback\"><pre>KNeighborsClassifier()</pre><b>In a Jupyter environment, please rerun this cell to show the HTML representation or trust the notebook. <br />On GitHub, the HTML representation is unable to render, please try loading this page with nbviewer.org.</b></div><div class=\"sk-container\" hidden><div class=\"sk-item\"><div class=\"sk-estimator sk-toggleable\"><input class=\"sk-toggleable__control sk-hidden--visually\" id=\"sk-estimator-id-37\" type=\"checkbox\" checked><label for=\"sk-estimator-id-37\" class=\"sk-toggleable__label sk-toggleable__label-arrow\">KNeighborsClassifier</label><div class=\"sk-toggleable__content\"><pre>KNeighborsClassifier()</pre></div></div></div></div></div>"
      ],
      "text/plain": [
       "KNeighborsClassifier()"
      ]
     },
     "execution_count": 268,
     "metadata": {},
     "output_type": "execute_result"
    }
   ],
   "source": [
    "# (step 4) Proses untuk membentuk model\n",
    "clf.fit(X_train, y_train)"
   ]
  },
  {
   "cell_type": "code",
   "execution_count": 269,
   "id": "0afc0149",
   "metadata": {},
   "outputs": [],
   "source": [
    "# (step 5) Model yang dihasilkan dari tahap sebelumnya, model ada pada variabel \"clf\"\n",
    "knn_pred = clf.predict(X_test)"
   ]
  },
  {
   "cell_type": "code",
   "execution_count": 270,
   "id": "d2cf0620",
   "metadata": {},
   "outputs": [
    {
     "name": "stdout",
     "output_type": "stream",
     "text": [
      "Predicted classes for the test data:\n",
      "Instance 0 belongs to class Versicolor\n",
      "Instance 1 belongs to class Setosa\n",
      "Instance 2 belongs to class Virginica\n",
      "Instance 3 belongs to class Versicolor\n",
      "Instance 4 belongs to class Versicolor\n",
      "Instance 5 belongs to class Setosa\n",
      "Instance 6 belongs to class Versicolor\n",
      "Instance 7 belongs to class Virginica\n",
      "Instance 8 belongs to class Versicolor\n",
      "Instance 9 belongs to class Versicolor\n",
      "Instance 10 belongs to class Virginica\n",
      "Instance 11 belongs to class Setosa\n",
      "Instance 12 belongs to class Setosa\n",
      "Instance 13 belongs to class Setosa\n",
      "Instance 14 belongs to class Setosa\n",
      "Instance 15 belongs to class Versicolor\n",
      "Instance 16 belongs to class Virginica\n",
      "Instance 17 belongs to class Versicolor\n",
      "Instance 18 belongs to class Versicolor\n",
      "Instance 19 belongs to class Virginica\n",
      "Instance 20 belongs to class Setosa\n",
      "Instance 21 belongs to class Virginica\n",
      "Instance 22 belongs to class Setosa\n",
      "Instance 23 belongs to class Virginica\n",
      "Instance 24 belongs to class Virginica\n",
      "Instance 25 belongs to class Virginica\n",
      "Instance 26 belongs to class Virginica\n",
      "Instance 27 belongs to class Virginica\n",
      "Instance 28 belongs to class Setosa\n",
      "Instance 29 belongs to class Setosa\n"
     ]
    }
   ],
   "source": [
    "# Menampilkan hasil prediksi, khususnya data testing\n",
    "print(\"Predicted classes for the test data:\")\n",
    "for i in range(len(X_test)):\n",
    "    print(\"Instance\", i, \"belongs to class\", knn_pred[i])"
   ]
  },
  {
   "cell_type": "code",
   "execution_count": 271,
   "id": "5ddfa8d7",
   "metadata": {},
   "outputs": [],
   "source": [
    "#Bandingkan hasil kinerja model machine learning yang dihasilkan dari 5 algoritma \n",
    "#tersebut, dengan menggunakan indikator accuracy, precision, recall, dan f1. Selain \n",
    "#itu, wajib juga menampilkan confusion matrix-nya.\n",
    "\n",
    "#accuracy\n",
    "accuracy1 = clf3.score(X_test, y_test)\n",
    "accuracy2 = clf4.score(X_test, y_test)\n",
    "accuracy3 = clf2.score(X_test, y_test)\n",
    "accuracy4 = clf5.score(X_test, y_test)\n",
    "accuracy = clf.score(X_test, y_test)\n",
    "\n",
    "#precision\n",
    "lr_precision = precision_score(y_test, lr_pred3, average='weighted')\n",
    "rf_precision = precision_score(y_test, rf_pred4, average='weighted')\n",
    "dt_precision = precision_score(y_test, dt_pred2, average='weighted')\n",
    "svm_precision = precision_score(y_test, svm_pred, average='weighted')\n",
    "knn_precision = precision_score(y_test, knn_pred, average='weighted')\n",
    "\n",
    "#recall\n",
    "lr_recall = recall_score(y_test, lr_pred3, average='weighted')\n",
    "rf_recall = recall_score(y_test, rf_pred4, average='weighted')\n",
    "dt_recall = recall_score(y_test, dt_pred2, average='weighted')\n",
    "svm_recall = recall_score(y_test, svm_pred, average='weighted')\n",
    "knn_recall = recall_score(y_test, knn_pred, average='weighted')\n",
    "\n",
    "#f1\n",
    "lr_f1 = f1_score(y_test, lr_pred3, average='weighted')\n",
    "rf_f1 = f1_score(y_test, rf_pred4, average='weighted')\n",
    "dt_f1 = f1_score(y_test, dt_pred2, average='weighted')\n",
    "svm_f1 = f1_score(y_test, svm_pred, average='weighted')\n",
    "knn_f1 = f1_score(y_test, knn_pred, average='weighted')"
   ]
  },
  {
   "cell_type": "code",
   "execution_count": 272,
   "id": "3ca72342",
   "metadata": {},
   "outputs": [
    {
     "name": "stdout",
     "output_type": "stream",
     "text": [
      "Logistic Regression\n",
      "Accuracy: 1.0\n",
      "Precision: 1.0\n",
      "Recall: 1.0\n",
      "F1-score: 1.0\n",
      "Confusion Matrix:\n",
      "[[10  0  0]\n",
      " [ 0  9  0]\n",
      " [ 0  0 11]]\n",
      "\n",
      "Random Forest\n",
      "Accuracy: 1.0\n",
      "Precision: 1.0\n",
      "Recall: 1.0\n",
      "F1-score: 1.0\n",
      "Confusion Matrix:\n",
      "[[10  0  0]\n",
      " [ 0  9  0]\n",
      " [ 0  0 11]]\n",
      "\n",
      "Decision Tree\n",
      "Accuracy: 1.0\n",
      "Precision: 1.0\n",
      "Recall: 1.0\n",
      "F1-score: 1.0\n",
      "Confusion Matrix:\n",
      "[[10  0  0]\n",
      " [ 0  9  0]\n",
      " [ 0  0 11]]\n",
      "\n",
      "Support Vector Machine\n",
      "Accuracy: 1.0\n",
      "Precision: 1.0\n",
      "Recall: 1.0\n",
      "F1-score: 1.0\n",
      "Confusion Matrix:\n",
      "[[10  0  0]\n",
      " [ 0  9  0]\n",
      " [ 0  0 11]]\n",
      "\n",
      "k-Nearest Neighbors\n",
      "Accuracy: 1.0\n",
      "Precision: 1.0\n",
      "Recall: 1.0\n",
      "F1-score: 1.0\n",
      "Confusion Matrix:\n",
      "[[10  0  0]\n",
      " [ 0  9  0]\n",
      " [ 0  0 11]]\n"
     ]
    }
   ],
   "source": [
    "# Menampilkan hasil evaluasi\n",
    "print(\"Logistic Regression\")\n",
    "print(\"Accuracy:\", accuracy1)\n",
    "print(\"Precision:\", lr_precision)\n",
    "print(\"Recall:\", lr_recall)\n",
    "print(\"F1-score:\", lr_f1)\n",
    "print(\"Confusion Matrix:\")\n",
    "print(confusion_matrix(y_test, lr_pred3))\n",
    "print(\"\")\n",
    "\n",
    "print(\"Random Forest\")\n",
    "print(\"Accuracy:\", accuracy2)\n",
    "print(\"Precision:\", rf_precision)\n",
    "print(\"Recall:\", rf_recall)\n",
    "print(\"F1-score:\", rf_f1)\n",
    "print(\"Confusion Matrix:\")\n",
    "print(confusion_matrix(y_test, rf_pred4))\n",
    "print(\"\")\n",
    "\n",
    "print(\"Decision Tree\")\n",
    "print(\"Accuracy:\", accuracy3)\n",
    "print(\"Precision:\", dt_precision)\n",
    "print(\"Recall:\", dt_recall)\n",
    "print(\"F1-score:\", dt_f1)\n",
    "print(\"Confusion Matrix:\")\n",
    "print(confusion_matrix(y_test, dt_pred2))\n",
    "print(\"\")\n",
    "\n",
    "print(\"Support Vector Machine\")\n",
    "print(\"Accuracy:\", accuracy4)\n",
    "print(\"Precision:\", svm_precision)\n",
    "print(\"Recall:\", svm_recall)\n",
    "print(\"F1-score:\", svm_f1)\n",
    "print(\"Confusion Matrix:\")\n",
    "print(confusion_matrix(y_test, svm_pred))\n",
    "print(\"\")\n",
    "\n",
    "print(\"k-Nearest Neighbors\")\n",
    "print(\"Accuracy:\", accuracy)\n",
    "print(\"Precision:\", knn_precision)\n",
    "print(\"Recall:\", knn_recall)\n",
    "print(\"F1-score:\", knn_f1)\n",
    "print(\"Confusion Matrix:\")\n",
    "print(confusion_matrix(y_test, knn_pred))\n"
   ]
  },
  {
   "cell_type": "code",
   "execution_count": null,
   "id": "8c405fe9",
   "metadata": {},
   "outputs": [],
   "source": []
  },
  {
   "cell_type": "code",
   "execution_count": null,
   "id": "3b49585a",
   "metadata": {},
   "outputs": [],
   "source": []
  },
  {
   "cell_type": "code",
   "execution_count": null,
   "id": "9bc54fec",
   "metadata": {},
   "outputs": [],
   "source": []
  },
  {
   "cell_type": "code",
   "execution_count": null,
   "id": "d4b9491c",
   "metadata": {},
   "outputs": [],
   "source": []
  },
  {
   "cell_type": "code",
   "execution_count": null,
   "id": "a9c41e06",
   "metadata": {},
   "outputs": [],
   "source": []
  }
 ],
 "metadata": {
  "kernelspec": {
   "display_name": "Python 3 (ipykernel)",
   "language": "python",
   "name": "python3"
  },
  "language_info": {
   "codemirror_mode": {
    "name": "ipython",
    "version": 3
   },
   "file_extension": ".py",
   "mimetype": "text/x-python",
   "name": "python",
   "nbconvert_exporter": "python",
   "pygments_lexer": "ipython3",
   "version": "3.10.9"
  }
 },
 "nbformat": 4,
 "nbformat_minor": 5
}
